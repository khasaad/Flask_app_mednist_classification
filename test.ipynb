{
 "cells": [
  {
   "cell_type": "code",
   "execution_count": 1,
   "outputs": [],
   "source": [
    "import os"
   ],
   "metadata": {
    "collapsed": false,
    "pycharm": {
     "name": "#%%\n"
    }
   }
  },
  {
   "cell_type": "code",
   "execution_count": null,
   "outputs": [],
   "source": [
    "BASE_DIR = '/mnt/txamsung/work/medical_image_clasification/mednist-classification-master noura'\n"
   ],
   "metadata": {
    "collapsed": false,
    "pycharm": {
     "name": "#%%\n"
    }
   }
  },
  {
   "cell_type": "code",
   "execution_count": null,
   "outputs": [],
   "source": [
    "def get_prediction(image_bytes):\n",
    "    try:\n",
    "        img_y = transform_image(image_bytes)\n",
    "        ort_inputs = {ort_session.get_inputs()[0].name: to_numpy(img_y)}\n",
    "        ort_outs = ort_session.run(None, ort_inputs)\n",
    "        outputs = ort_outs[0]\n",
    "        print('****************************************')\n",
    "        print(ort_outs)\n",
    "        print('output', imagenet_class_index.get(str(outputs.argmax())),outputs.argmax())\n",
    "    except Exception:\n",
    "        return 404, 'error'\n",
    "    return [imagenet_class_index.get(str(outputs.argmax())), outputs.argmax()]\n",
    "\n"
   ],
   "metadata": {
    "collapsed": false,
    "pycharm": {
     "name": "#%%\n"
    }
   }
  },
  {
   "cell_type": "code",
   "execution_count": null,
   "outputs": [],
   "source": [
    "image_path = f'{BASE_DIR}/static/predicted_images/AbdomenCT/000076.jpeg'\n"
   ],
   "metadata": {
    "collapsed": false,
    "pycharm": {
     "name": "#%%\n"
    }
   }
  },
  {
   "cell_type": "code",
   "execution_count": 9,
   "outputs": [
    {
     "name": "stdout",
     "output_type": "stream",
     "text": [
      "folder created\n"
     ]
    }
   ],
   "source": [
    "file = request.files.get('file')"
   ],
   "metadata": {
    "collapsed": false,
    "pycharm": {
     "name": "#%%\n"
    }
   }
  }
 ],
 "metadata": {
  "kernelspec": {
   "display_name": "Python 3",
   "language": "python",
   "name": "python3"
  },
  "language_info": {
   "codemirror_mode": {
    "name": "ipython",
    "version": 2
   },
   "file_extension": ".py",
   "mimetype": "text/x-python",
   "name": "python",
   "nbconvert_exporter": "python",
   "pygments_lexer": "ipython2",
   "version": "2.7.6"
  }
 },
 "nbformat": 4,
 "nbformat_minor": 0
}